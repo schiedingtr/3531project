{
 "cells": [
  {
   "cell_type": "code",
   "execution_count": 1,
   "id": "d53c5253",
   "metadata": {},
   "outputs": [],
   "source": [
    "import numpy as np   #This imports all the packages I will need to finsish my project\n",
    "import math as mat\n",
    "import scipy as sp\n",
    "import pandas as pd\n",
    "import matplotlib as mp\n",
    "import seaborn as sns"
   ]
  },
  {
   "cell_type": "code",
   "execution_count": 51,
   "id": "48ac102f",
   "metadata": {},
   "outputs": [
    {
     "data": {
      "text/html": [
       "<div>\n",
       "<style scoped>\n",
       "    .dataframe tbody tr th:only-of-type {\n",
       "        vertical-align: middle;\n",
       "    }\n",
       "\n",
       "    .dataframe tbody tr th {\n",
       "        vertical-align: top;\n",
       "    }\n",
       "\n",
       "    .dataframe thead th {\n",
       "        text-align: right;\n",
       "    }\n",
       "</style>\n",
       "<table border=\"1\" class=\"dataframe\">\n",
       "  <thead>\n",
       "    <tr style=\"text-align: right;\">\n",
       "      <th></th>\n",
       "      <th>Unnamed: 0</th>\n",
       "      <th>Unnamed: 0.1</th>\n",
       "      <th>mass</th>\n",
       "      <th>year</th>\n",
       "      <th>reclat</th>\n",
       "      <th>reclong</th>\n",
       "      <th>log(mass)</th>\n",
       "      <th>intlong</th>\n",
       "      <th>intlat</th>\n",
       "    </tr>\n",
       "  </thead>\n",
       "  <tbody>\n",
       "    <tr>\n",
       "      <th>0</th>\n",
       "      <td>0</td>\n",
       "      <td>0</td>\n",
       "      <td>21.0</td>\n",
       "      <td>1880</td>\n",
       "      <td>50.77500</td>\n",
       "      <td>6.08333</td>\n",
       "      <td>1.322219</td>\n",
       "      <td>6</td>\n",
       "      <td>50</td>\n",
       "    </tr>\n",
       "    <tr>\n",
       "      <th>1</th>\n",
       "      <td>1</td>\n",
       "      <td>1</td>\n",
       "      <td>720.0</td>\n",
       "      <td>1951</td>\n",
       "      <td>56.18333</td>\n",
       "      <td>10.23333</td>\n",
       "      <td>2.857332</td>\n",
       "      <td>10</td>\n",
       "      <td>56</td>\n",
       "    </tr>\n",
       "    <tr>\n",
       "      <th>2</th>\n",
       "      <td>2</td>\n",
       "      <td>2</td>\n",
       "      <td>107000.0</td>\n",
       "      <td>1952</td>\n",
       "      <td>54.21667</td>\n",
       "      <td>-113.00000</td>\n",
       "      <td>5.029384</td>\n",
       "      <td>-113</td>\n",
       "      <td>54</td>\n",
       "    </tr>\n",
       "    <tr>\n",
       "      <th>3</th>\n",
       "      <td>3</td>\n",
       "      <td>3</td>\n",
       "      <td>1914.0</td>\n",
       "      <td>1976</td>\n",
       "      <td>16.88333</td>\n",
       "      <td>-99.90000</td>\n",
       "      <td>3.281942</td>\n",
       "      <td>-99</td>\n",
       "      <td>16</td>\n",
       "    </tr>\n",
       "    <tr>\n",
       "      <th>4</th>\n",
       "      <td>4</td>\n",
       "      <td>4</td>\n",
       "      <td>780.0</td>\n",
       "      <td>1902</td>\n",
       "      <td>-33.16667</td>\n",
       "      <td>-64.95000</td>\n",
       "      <td>2.892095</td>\n",
       "      <td>-64</td>\n",
       "      <td>-33</td>\n",
       "    </tr>\n",
       "  </tbody>\n",
       "</table>\n",
       "</div>"
      ],
      "text/plain": [
       "   Unnamed: 0  Unnamed: 0.1      mass  year    reclat    reclong  log(mass)  \\\n",
       "0           0             0      21.0  1880  50.77500    6.08333   1.322219   \n",
       "1           1             1     720.0  1951  56.18333   10.23333   2.857332   \n",
       "2           2             2  107000.0  1952  54.21667 -113.00000   5.029384   \n",
       "3           3             3    1914.0  1976  16.88333  -99.90000   3.281942   \n",
       "4           4             4     780.0  1902 -33.16667  -64.95000   2.892095   \n",
       "\n",
       "   intlong  intlat  \n",
       "0        6      50  \n",
       "1       10      56  \n",
       "2     -113      54  \n",
       "3      -99      16  \n",
       "4      -64     -33  "
      ]
     },
     "execution_count": 51,
     "metadata": {},
     "output_type": "execute_result"
    }
   ],
   "source": [
    "df = pd.read_csv('meteorite-landings.csv') #making sure the csv is being read by the program correctly\n",
    "df.head(5)"
   ]
  },
  {
   "cell_type": "code",
   "execution_count": 101,
   "id": "a70111a9",
   "metadata": {},
   "outputs": [],
   "source": [
    "df = df.drop(labels = ['id','name','nametype','GeoLocation','recclass','fall'], axis = 1) #here I am getting rid of columns of data that I will not be using in the project\n",
    "filepath = '.\\meteorite-landings.csv'\n",
    "df.to_csv(filepath)"
   ]
  },
  {
   "cell_type": "code",
   "execution_count": 102,
   "id": "6d9cbd20",
   "metadata": {},
   "outputs": [],
   "source": [
    "df = df.dropna(subset = ['mass','reclat','reclong','year'], axis = 0) #getting rid of rows where information is missing in essential columns\n",
    "filepath = '.\\meteorite-landings.csv'\n",
    "df.to_csv(filepath)"
   ]
  },
  {
   "cell_type": "code",
   "execution_count": 103,
   "id": "32bad561",
   "metadata": {},
   "outputs": [],
   "source": [
    "df = df[df['mass'] != 0] #getting rid of any rows with 0 as an input for mass\n",
    "filepath = '.\\meteorite-landings.csv'\n",
    "df.to_csv(filepath)"
   ]
  },
  {
   "cell_type": "code",
   "execution_count": 106,
   "id": "0ede52e3",
   "metadata": {},
   "outputs": [],
   "source": [
    "df = df[df['reclat'] + df['reclong'] != 0] #getting rid of any rows where both latitude and longitude are 0 (this corresponds to a spot in the ocean off the coast of Africa)\n",
    "filepath = '.\\meteorite-landings.csv'\n",
    "df.to_csv(filepath)"
   ]
  },
  {
   "cell_type": "code",
   "execution_count": 109,
   "id": "ae224c94",
   "metadata": {},
   "outputs": [],
   "source": [
    "df = df[(df['year'] >= 800) & (df['year'] <= 2016)] #getting rid of rows with misinputs for the fall date (years before 800 and after 2016)\n",
    "filepath = '.\\meteorite-landings.csv'\n",
    "df.to_csv(filepath)"
   ]
  },
  {
   "cell_type": "code",
   "execution_count": 52,
   "id": "92bc2a88",
   "metadata": {},
   "outputs": [
    {
     "data": {
      "text/html": [
       "<div>\n",
       "<style scoped>\n",
       "    .dataframe tbody tr th:only-of-type {\n",
       "        vertical-align: middle;\n",
       "    }\n",
       "\n",
       "    .dataframe tbody tr th {\n",
       "        vertical-align: top;\n",
       "    }\n",
       "\n",
       "    .dataframe thead th {\n",
       "        text-align: right;\n",
       "    }\n",
       "</style>\n",
       "<table border=\"1\" class=\"dataframe\">\n",
       "  <thead>\n",
       "    <tr style=\"text-align: right;\">\n",
       "      <th></th>\n",
       "      <th>Unnamed: 0</th>\n",
       "      <th>Unnamed: 0.1</th>\n",
       "      <th>mass</th>\n",
       "      <th>year</th>\n",
       "      <th>reclat</th>\n",
       "      <th>reclong</th>\n",
       "      <th>log(mass)</th>\n",
       "      <th>intlong</th>\n",
       "      <th>intlat</th>\n",
       "    </tr>\n",
       "  </thead>\n",
       "  <tbody>\n",
       "    <tr>\n",
       "      <th>count</th>\n",
       "      <td>31911.000000</td>\n",
       "      <td>31911.000000</td>\n",
       "      <td>3.191100e+04</td>\n",
       "      <td>31911.000000</td>\n",
       "      <td>31911.000000</td>\n",
       "      <td>31911.000000</td>\n",
       "      <td>31911.000000</td>\n",
       "      <td>31911.000000</td>\n",
       "      <td>31911.000000</td>\n",
       "    </tr>\n",
       "    <tr>\n",
       "      <th>mean</th>\n",
       "      <td>15955.000000</td>\n",
       "      <td>15955.000000</td>\n",
       "      <td>1.855334e+04</td>\n",
       "      <td>1986.983611</td>\n",
       "      <td>-47.325541</td>\n",
       "      <td>73.217418</td>\n",
       "      <td>1.629775</td>\n",
       "      <td>72.919589</td>\n",
       "      <td>-47.129266</td>\n",
       "    </tr>\n",
       "    <tr>\n",
       "      <th>std</th>\n",
       "      <td>9212.056556</td>\n",
       "      <td>9212.056556</td>\n",
       "      <td>6.870431e+05</td>\n",
       "      <td>26.723522</td>\n",
       "      <td>46.668084</td>\n",
       "      <td>83.196982</td>\n",
       "      <td>1.146890</td>\n",
       "      <td>83.023738</td>\n",
       "      <td>46.294812</td>\n",
       "    </tr>\n",
       "    <tr>\n",
       "      <th>min</th>\n",
       "      <td>0.000000</td>\n",
       "      <td>0.000000</td>\n",
       "      <td>1.000000e-02</td>\n",
       "      <td>860.000000</td>\n",
       "      <td>-87.366670</td>\n",
       "      <td>-165.433330</td>\n",
       "      <td>-2.000000</td>\n",
       "      <td>-165.000000</td>\n",
       "      <td>-87.000000</td>\n",
       "    </tr>\n",
       "    <tr>\n",
       "      <th>25%</th>\n",
       "      <td>7977.500000</td>\n",
       "      <td>7977.500000</td>\n",
       "      <td>6.500000e+00</td>\n",
       "      <td>1982.000000</td>\n",
       "      <td>-79.683330</td>\n",
       "      <td>26.000000</td>\n",
       "      <td>0.812913</td>\n",
       "      <td>26.000000</td>\n",
       "      <td>-79.000000</td>\n",
       "    </tr>\n",
       "    <tr>\n",
       "      <th>50%</th>\n",
       "      <td>15955.000000</td>\n",
       "      <td>15955.000000</td>\n",
       "      <td>2.968000e+01</td>\n",
       "      <td>1991.000000</td>\n",
       "      <td>-72.000000</td>\n",
       "      <td>56.837750</td>\n",
       "      <td>1.472464</td>\n",
       "      <td>56.000000</td>\n",
       "      <td>-72.000000</td>\n",
       "    </tr>\n",
       "    <tr>\n",
       "      <th>75%</th>\n",
       "      <td>23932.500000</td>\n",
       "      <td>23932.500000</td>\n",
       "      <td>2.021050e+02</td>\n",
       "      <td>2000.000000</td>\n",
       "      <td>18.321420</td>\n",
       "      <td>159.394165</td>\n",
       "      <td>2.305577</td>\n",
       "      <td>159.000000</td>\n",
       "      <td>18.000000</td>\n",
       "    </tr>\n",
       "    <tr>\n",
       "      <th>max</th>\n",
       "      <td>31910.000000</td>\n",
       "      <td>31910.000000</td>\n",
       "      <td>6.000000e+07</td>\n",
       "      <td>2013.000000</td>\n",
       "      <td>81.166670</td>\n",
       "      <td>178.200000</td>\n",
       "      <td>7.778151</td>\n",
       "      <td>178.000000</td>\n",
       "      <td>81.000000</td>\n",
       "    </tr>\n",
       "  </tbody>\n",
       "</table>\n",
       "</div>"
      ],
      "text/plain": [
       "         Unnamed: 0  Unnamed: 0.1          mass          year        reclat  \\\n",
       "count  31911.000000  31911.000000  3.191100e+04  31911.000000  31911.000000   \n",
       "mean   15955.000000  15955.000000  1.855334e+04   1986.983611    -47.325541   \n",
       "std     9212.056556   9212.056556  6.870431e+05     26.723522     46.668084   \n",
       "min        0.000000      0.000000  1.000000e-02    860.000000    -87.366670   \n",
       "25%     7977.500000   7977.500000  6.500000e+00   1982.000000    -79.683330   \n",
       "50%    15955.000000  15955.000000  2.968000e+01   1991.000000    -72.000000   \n",
       "75%    23932.500000  23932.500000  2.021050e+02   2000.000000     18.321420   \n",
       "max    31910.000000  31910.000000  6.000000e+07   2013.000000     81.166670   \n",
       "\n",
       "            reclong     log(mass)       intlong        intlat  \n",
       "count  31911.000000  31911.000000  31911.000000  31911.000000  \n",
       "mean      73.217418      1.629775     72.919589    -47.129266  \n",
       "std       83.196982      1.146890     83.023738     46.294812  \n",
       "min     -165.433330     -2.000000   -165.000000    -87.000000  \n",
       "25%       26.000000      0.812913     26.000000    -79.000000  \n",
       "50%       56.837750      1.472464     56.000000    -72.000000  \n",
       "75%      159.394165      2.305577    159.000000     18.000000  \n",
       "max      178.200000      7.778151    178.000000     81.000000  "
      ]
     },
     "execution_count": 52,
     "metadata": {},
     "output_type": "execute_result"
    }
   ],
   "source": [
    "df.describe()  #some statistics regarding my data (mass is in grams)"
   ]
  },
  {
   "cell_type": "code",
   "execution_count": 4,
   "id": "fbd8c0c6",
   "metadata": {},
   "outputs": [
    {
     "name": "stdout",
     "output_type": "stream",
     "text": [
      "the minimum mass of a meteorite in this set is 0.01 grams\n",
      "the average mass of a meteorite is 18553.344917896648 grams\n",
      "the maximum mass of a meteorite in this set is 60000000.0 grams\n"
     ]
    }
   ],
   "source": [
    "print('the minimum mass of a meteorite in this set is', df['mass'].min(), 'grams') #Prints min, max, and mean values for meteorite mass\n",
    "print('the average mass of a meteorite is', df['mass'].mean(), 'grams')\n",
    "print('the maximum mass of a meteorite in this set is', df['mass'].max(), 'grams')"
   ]
  },
  {
   "cell_type": "markdown",
   "id": "2f76d1d0",
   "metadata": {},
   "source": [
    "### I realized early in this project that it would become more about the most likely meteorite to be found as opposed to the most likely meteorite to land on Earth. This is demonstrated above. While most meteorites are probably of very low mass, the average found meteorite in this set weighs north of 30 pounds. This is because high mass meteorites are way more likely to be spotted than low mass ones."
   ]
  },
  {
   "cell_type": "code",
   "execution_count": 131,
   "id": "ebf33232",
   "metadata": {},
   "outputs": [],
   "source": [
    "df['log(mass)'] = np.log10(df['mass']) #added a column for the log of the original mass so I can plot the distribution of found meteorite mass more effectively\n",
    "filepath = '.\\meteorite-landings.csv'\n",
    "df.to_csv(filepath)"
   ]
  },
  {
   "cell_type": "code",
   "execution_count": 6,
   "id": "9aee17e1",
   "metadata": {},
   "outputs": [
    {
     "data": {
      "text/plain": [
       "[Text(0.5, 0, 'log(mass)')]"
      ]
     },
     "execution_count": 6,
     "metadata": {},
     "output_type": "execute_result"
    },
    {
     "data": {
      "image/png": "[encoded data removed]",
      "text/plain": [
       "<Figure size 432x288 with 1 Axes>"
      ]
     },
     "metadata": {
      "needs_background": "light"
     },
     "output_type": "display_data"
    }
   ],
   "source": [
    "df.plot(y = 'log(mass)', kind = 'hist', color = 'blue', title = 'Mass distribution').set(xlabel = 'log(mass)') #This plot of log(mass) will show on a small scale whether the distribution of meteorite mass tends toward a max or min"
   ]
  },
  {
   "cell_type": "markdown",
   "id": "9d516238",
   "metadata": {},
   "source": [
    "### Here you can see that while found meteorites do tend toward a lower mass the fact larger meteorites are easier found makes the distribution more even"
   ]
  },
  {
   "cell_type": "code",
   "execution_count": 19,
   "id": "5e113e90",
   "metadata": {},
   "outputs": [
    {
     "data": {
      "text/plain": [
       "[Text(0.5, 0, 'Year')]"
      ]
     },
     "execution_count": 19,
     "metadata": {},
     "output_type": "execute_result"
    },
    {
     "data": {
      "image/png": "[encoded data removed]",
      "text/plain": [
       "<Figure size 432x288 with 1 Axes>"
      ]
     },
     "metadata": {
      "needs_background": "light"
     },
     "output_type": "display_data"
    }
   ],
   "source": [
    "dfy = df[(df['year'] >= 1950) & (df['year'] <= 2010)] #Excludes values in the plot before 1950 and after 2010\n",
    "dfy.plot(y = 'year', kind = 'hist', color = 'orange', title = 'Finding Increase').set(xlabel = 'Year')"
   ]
  },
  {
   "cell_type": "markdown",
   "id": "f7179418",
   "metadata": {},
   "source": [
    "### Here is a histogram of meteorite discovery distribution since 1950. It seems that findings have drastically increased since 1950. I theorize that the sporadic increase/decrease cycle has to do with gaps caused by data I eliminated with missing values and that meteorite deiscovery has most likely steadily increased since it began to be recorded. "
   ]
  },
  {
   "cell_type": "code",
   "execution_count": 21,
   "id": "03d1c02a",
   "metadata": {},
   "outputs": [
    {
     "data": {
      "text/plain": [
       "[Text(0.5, 0, 'longitude'), Text(0, 0.5, 'latitude')]"
      ]
     },
     "execution_count": 21,
     "metadata": {},
     "output_type": "execute_result"
    },
    {
     "data": {
      "image/png": "[encoded data removed]",
      "text/plain": [
       "<Figure size 432x288 with 1 Axes>"
      ]
     },
     "metadata": {
      "needs_background": "light"
     },
     "output_type": "display_data"
    }
   ],
   "source": [
    "df.plot(y = 'reclat', x = 'reclong', kind = 'scatter', color = 'green', title = 'finding locations').set(xlabel = 'longitude',ylabel = 'latitude')"
   ]
  },
  {
   "cell_type": "markdown",
   "id": "67dfa5ce",
   "metadata": {},
   "source": [
    "### Here is a scatter plot I made to chart meteorite findings by their location on Earth. It ends up showing a map where you can see places that would be difficult to find meteorites like the Arctic or the Amazon Rainforest"
   ]
  },
  {
   "cell_type": "code",
   "execution_count": 59,
   "id": "c07cf7c9",
   "metadata": {},
   "outputs": [
    {
     "data": {
      "text/plain": [
       "[Text(0.5, 0, 'longitude'), Text(0, 0.5, 'latitude')]"
      ]
     },
     "execution_count": 59,
     "metadata": {},
     "output_type": "execute_result"
    },
    {
     "data": {
      "image/png": "[encoded data removed]",
      "text/plain": [
       "<Figure size 432x288 with 1 Axes>"
      ]
     },
     "metadata": {
      "needs_background": "light"
     },
     "output_type": "display_data"
    }
   ],
   "source": [
    "df.plot(y = 'reclat', x = 'reclong', kind = 'scatter', color = 'red', s =.05, title = 'finding locations').set(xlabel = 'longitude',ylabel = 'latitude')"
   ]
  },
  {
   "cell_type": "markdown",
   "id": "8596bfce",
   "metadata": {},
   "source": [
    "### Here I decreased dot size to more accurately show where most of these meteorites are found"
   ]
  },
  {
   "cell_type": "code",
   "execution_count": 48,
   "id": "63fe8855",
   "metadata": {},
   "outputs": [],
   "source": [
    "df['intlong'] = (df['reclong']).astype(int) #adding columns here that convert longitude and latitude values to integers so I can find the location you are most likely to find a meteorite\n",
    "df['intlat'] = (df['reclat']).astype(int)\n",
    "filepath = '.\\meteorite-landings.csv'\n",
    "df.to_csv(filepath)"
   ]
  },
  {
   "cell_type": "code",
   "execution_count": 50,
   "id": "6a514e9d",
   "metadata": {},
   "outputs": [
    {
     "name": "stdout",
     "output_type": "stream",
     "text": [
      "the most likely longitude to find a meteorite 0    35\n",
      "dtype: int32\n",
      "the most likely latitude to find a meteorite 0   -84\n",
      "dtype: int32\n"
     ]
    }
   ],
   "source": [
    "print('the most likely longitude to find a meteorite', df['intlong'].mode()) #The latitude and longitude values that occur most often for found meteorites\n",
    "print('the most likely latitude to find a meteorite', df['intlat'].mode())"
   ]
  },
  {
   "cell_type": "markdown",
   "id": "075095aa",
   "metadata": {},
   "source": [
    "### These values seem to line up with a large cluster of found meteorites through North Africa and Eastern Europe longitude wise and a string of found meteorites along the coast of Antarctica latitude wise. "
   ]
  },
  {
   "cell_type": "code",
   "execution_count": null,
   "id": "691fcf51",
   "metadata": {},
   "outputs": [],
   "source": []
  }
 ],
 "metadata": {
  "kernelspec": {
   "display_name": "Python 3",
   "language": "python",
   "name": "python3"
  },
  "language_info": {
   "codemirror_mode": {
    "name": "ipython",
    "version": 3
   },
   "file_extension": ".py",
   "mimetype": "text/x-python",
   "name": "python",
   "nbconvert_exporter": "python",
   "pygments_lexer": "ipython3",
   "version": "3.8.8"
  }
 },
 "nbformat": 4,
 "nbformat_minor": 5
}
