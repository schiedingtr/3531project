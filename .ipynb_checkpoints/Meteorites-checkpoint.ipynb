{
 "cells": [
  {
   "cell_type": "code",
   "execution_count": 99,
   "id": "d53c5253",
   "metadata": {},
   "outputs": [],
   "source": [
    "import numpy as np   #This imports all the packages I will need to finsish my project\n",
    "import math as mat\n",
    "import scipy as sp\n",
    "import pandas as pd\n",
    "import matplotlib as mp"
   ]
  },
  {
   "cell_type": "code",
   "execution_count": 117,
   "id": "48ac102f",
   "metadata": {},
   "outputs": [
    {
     "data": {
      "text/html": [
       "<div>\n",
       "<style scoped>\n",
       "    .dataframe tbody tr th:only-of-type {\n",
       "        vertical-align: middle;\n",
       "    }\n",
       "\n",
       "    .dataframe tbody tr th {\n",
       "        vertical-align: top;\n",
       "    }\n",
       "\n",
       "    .dataframe thead th {\n",
       "        text-align: right;\n",
       "    }\n",
       "</style>\n",
       "<table border=\"1\" class=\"dataframe\">\n",
       "  <thead>\n",
       "    <tr style=\"text-align: right;\">\n",
       "      <th></th>\n",
       "      <th>mass</th>\n",
       "      <th>year</th>\n",
       "      <th>reclat</th>\n",
       "      <th>reclong</th>\n",
       "    </tr>\n",
       "  </thead>\n",
       "  <tbody>\n",
       "    <tr>\n",
       "      <th>0</th>\n",
       "      <td>21.0</td>\n",
       "      <td>1880</td>\n",
       "      <td>50.77500</td>\n",
       "      <td>6.08333</td>\n",
       "    </tr>\n",
       "    <tr>\n",
       "      <th>1</th>\n",
       "      <td>720.0</td>\n",
       "      <td>1951</td>\n",
       "      <td>56.18333</td>\n",
       "      <td>10.23333</td>\n",
       "    </tr>\n",
       "    <tr>\n",
       "      <th>2</th>\n",
       "      <td>107000.0</td>\n",
       "      <td>1952</td>\n",
       "      <td>54.21667</td>\n",
       "      <td>-113.00000</td>\n",
       "    </tr>\n",
       "    <tr>\n",
       "      <th>3</th>\n",
       "      <td>1914.0</td>\n",
       "      <td>1976</td>\n",
       "      <td>16.88333</td>\n",
       "      <td>-99.90000</td>\n",
       "    </tr>\n",
       "    <tr>\n",
       "      <th>4</th>\n",
       "      <td>780.0</td>\n",
       "      <td>1902</td>\n",
       "      <td>-33.16667</td>\n",
       "      <td>-64.95000</td>\n",
       "    </tr>\n",
       "  </tbody>\n",
       "</table>\n",
       "</div>"
      ],
      "text/plain": [
       "       mass  year    reclat    reclong\n",
       "0      21.0  1880  50.77500    6.08333\n",
       "1     720.0  1951  56.18333   10.23333\n",
       "2  107000.0  1952  54.21667 -113.00000\n",
       "3    1914.0  1976  16.88333  -99.90000\n",
       "4     780.0  1902 -33.16667  -64.95000"
      ]
     },
     "execution_count": 117,
     "metadata": {},
     "output_type": "execute_result"
    }
   ],
   "source": [
    "df = pd.read_csv('meteorite-landings.csv') #making sure the csv is being read by the program correctly\n",
    "df.head(5)"
   ]
  },
  {
   "cell_type": "code",
   "execution_count": 101,
   "id": "a70111a9",
   "metadata": {},
   "outputs": [],
   "source": [
    "df = df.drop(labels = ['id','name','nametype','GeoLocation','recclass','fall'], axis = 1) #here I am getting rid of columns of data that I will not be using in the project\n",
    "filepath = '.\\meteorite-landings.csv'\n",
    "df.to_csv(filepath)"
   ]
  },
  {
   "cell_type": "code",
   "execution_count": 102,
   "id": "6d9cbd20",
   "metadata": {},
   "outputs": [],
   "source": [
    "df = df.dropna(subset = ['mass','reclat','reclong','year'], axis = 0) #getting rid of rows where information is missing in essential columns\n",
    "filepath = '.\\meteorite-landings.csv'\n",
    "df.to_csv(filepath)"
   ]
  },
  {
   "cell_type": "code",
   "execution_count": 103,
   "id": "32bad561",
   "metadata": {},
   "outputs": [],
   "source": [
    "df = df[df['mass'] != 0] #getting rid of any rows with 0 as an input for mass\n",
    "filepath = '.\\meteorite-landings.csv'\n",
    "df.to_csv(filepath)"
   ]
  },
  {
   "cell_type": "code",
   "execution_count": 106,
   "id": "0ede52e3",
   "metadata": {},
   "outputs": [],
   "source": [
    "df = df[df['reclat'] + df['reclong'] != 0] #getting rid of any rows where both latitude and longitude are 0 (this corresponds to a spot in the ocean off the coast of Africa)\n",
    "filepath = '.\\meteorite-landings.csv'\n",
    "df.to_csv(filepath)"
   ]
  },
  {
   "cell_type": "code",
   "execution_count": 109,
   "id": "ae224c94",
   "metadata": {},
   "outputs": [],
   "source": [
    "df = df[(df['year'] >= 800) & (df['year'] <= 2016)] #getting rid of rows with misinputs for the fall date (years before 800 and after 2016)\n",
    "filepath = '.\\meteorite-landings.csv'\n",
    "df.to_csv(filepath)"
   ]
  },
  {
   "cell_type": "code",
   "execution_count": 118,
   "id": "7914b89b",
   "metadata": {},
   "outputs": [
    {
     "data": {
      "text/html": [
       "<div>\n",
       "<style scoped>\n",
       "    .dataframe tbody tr th:only-of-type {\n",
       "        vertical-align: middle;\n",
       "    }\n",
       "\n",
       "    .dataframe tbody tr th {\n",
       "        vertical-align: top;\n",
       "    }\n",
       "\n",
       "    .dataframe thead th {\n",
       "        text-align: right;\n",
       "    }\n",
       "</style>\n",
       "<table border=\"1\" class=\"dataframe\">\n",
       "  <thead>\n",
       "    <tr style=\"text-align: right;\">\n",
       "      <th></th>\n",
       "      <th>mass</th>\n",
       "      <th>year</th>\n",
       "      <th>reclat</th>\n",
       "      <th>reclong</th>\n",
       "    </tr>\n",
       "  </thead>\n",
       "  <tbody>\n",
       "    <tr>\n",
       "      <th>count</th>\n",
       "      <td>3.191100e+04</td>\n",
       "      <td>31911.000000</td>\n",
       "      <td>31911.000000</td>\n",
       "      <td>31911.000000</td>\n",
       "    </tr>\n",
       "    <tr>\n",
       "      <th>mean</th>\n",
       "      <td>1.855334e+04</td>\n",
       "      <td>1986.983611</td>\n",
       "      <td>-47.325541</td>\n",
       "      <td>73.217418</td>\n",
       "    </tr>\n",
       "    <tr>\n",
       "      <th>std</th>\n",
       "      <td>6.870431e+05</td>\n",
       "      <td>26.723522</td>\n",
       "      <td>46.668084</td>\n",
       "      <td>83.196982</td>\n",
       "    </tr>\n",
       "    <tr>\n",
       "      <th>min</th>\n",
       "      <td>1.000000e-02</td>\n",
       "      <td>860.000000</td>\n",
       "      <td>-87.366670</td>\n",
       "      <td>-165.433330</td>\n",
       "    </tr>\n",
       "    <tr>\n",
       "      <th>25%</th>\n",
       "      <td>6.500000e+00</td>\n",
       "      <td>1982.000000</td>\n",
       "      <td>-79.683330</td>\n",
       "      <td>26.000000</td>\n",
       "    </tr>\n",
       "    <tr>\n",
       "      <th>50%</th>\n",
       "      <td>2.968000e+01</td>\n",
       "      <td>1991.000000</td>\n",
       "      <td>-72.000000</td>\n",
       "      <td>56.837750</td>\n",
       "    </tr>\n",
       "    <tr>\n",
       "      <th>75%</th>\n",
       "      <td>2.021050e+02</td>\n",
       "      <td>2000.000000</td>\n",
       "      <td>18.321420</td>\n",
       "      <td>159.394165</td>\n",
       "    </tr>\n",
       "    <tr>\n",
       "      <th>max</th>\n",
       "      <td>6.000000e+07</td>\n",
       "      <td>2013.000000</td>\n",
       "      <td>81.166670</td>\n",
       "      <td>178.200000</td>\n",
       "    </tr>\n",
       "  </tbody>\n",
       "</table>\n",
       "</div>"
      ],
      "text/plain": [
       "               mass          year        reclat       reclong\n",
       "count  3.191100e+04  31911.000000  31911.000000  31911.000000\n",
       "mean   1.855334e+04   1986.983611    -47.325541     73.217418\n",
       "std    6.870431e+05     26.723522     46.668084     83.196982\n",
       "min    1.000000e-02    860.000000    -87.366670   -165.433330\n",
       "25%    6.500000e+00   1982.000000    -79.683330     26.000000\n",
       "50%    2.968000e+01   1991.000000    -72.000000     56.837750\n",
       "75%    2.021050e+02   2000.000000     18.321420    159.394165\n",
       "max    6.000000e+07   2013.000000     81.166670    178.200000"
      ]
     },
     "execution_count": 118,
     "metadata": {},
     "output_type": "execute_result"
    }
   ],
   "source": [
    "df.describe()  #some statistics regarding my data (mass is in grams)"
   ]
  },
  {
   "cell_type": "code",
   "execution_count": null,
   "id": "5562e645",
   "metadata": {},
   "outputs": [],
   "source": []
  }
 ],
 "metadata": {
  "kernelspec": {
   "display_name": "Python 3",
   "language": "python",
   "name": "python3"
  },
  "language_info": {
   "codemirror_mode": {
    "name": "ipython",
    "version": 3
   },
   "file_extension": ".py",
   "mimetype": "text/x-python",
   "name": "python",
   "nbconvert_exporter": "python",
   "pygments_lexer": "ipython3",
   "version": "3.8.8"
  }
 },
 "nbformat": 4,
 "nbformat_minor": 5
}
